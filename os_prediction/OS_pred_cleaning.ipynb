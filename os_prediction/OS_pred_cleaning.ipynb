{
 "cells": [
  {
   "cell_type": "markdown",
   "metadata": {},
   "source": [
    "# OS Prediction\n",
    "In this section we should predict the operating system of cellphones based on data we have. This section has two parts.  The difference between these two parts is on \"Battery Capacity\" field from dataset.\n",
    "## Part 1\n",
    "In this part, we are going to predict OS from dataset we have. But, we are going to use \"battery capacity\" column as it is and as its numirical values.\n",
    "\n",
    "First, we are going to import our required packages, import data and split tain and test\n",
    " "
   ]
  },
  {
   "cell_type": "code",
   "execution_count": 38,
   "metadata": {},
   "outputs": [],
   "source": [
    "import pandas as pd\n",
    "import numpy as np\n",
    "import seaborn as sns\n",
    "import math\n",
    "import matplotlib.pyplot as plt\n",
    "from sklearn.model_selection import train_test_split\n",
    "from sklearn.preprocessing import LabelEncoder\n",
    "from sklearn.preprocessing import StandardScaler\n",
    "from warnings import filterwarnings\n",
    "filterwarnings('ignore')"
   ]
  },
  {
   "cell_type": "code",
   "execution_count": 39,
   "metadata": {},
   "outputs": [
    {
     "data": {
      "text/html": [
       "<div>\n",
       "<style scoped>\n",
       "    .dataframe tbody tr th:only-of-type {\n",
       "        vertical-align: middle;\n",
       "    }\n",
       "\n",
       "    .dataframe tbody tr th {\n",
       "        vertical-align: top;\n",
       "    }\n",
       "\n",
       "    .dataframe thead th {\n",
       "        text-align: right;\n",
       "    }\n",
       "</style>\n",
       "<table border=\"1\" class=\"dataframe\">\n",
       "  <thead>\n",
       "    <tr style=\"text-align: right;\">\n",
       "      <th></th>\n",
       "      <th>Unnamed: 0</th>\n",
       "      <th>name</th>\n",
       "      <th>brand</th>\n",
       "      <th>2G</th>\n",
       "      <th>3G</th>\n",
       "      <th>4G</th>\n",
       "      <th>5G</th>\n",
       "      <th>Announced</th>\n",
       "      <th>Status</th>\n",
       "      <th>Weight</th>\n",
       "      <th>...</th>\n",
       "      <th>Bluetooth</th>\n",
       "      <th>GPU</th>\n",
       "      <th>Loudspeaker</th>\n",
       "      <th>3.5mm jack</th>\n",
       "      <th>Chipset</th>\n",
       "      <th>Network</th>\n",
       "      <th>Internal</th>\n",
       "      <th>Card slot</th>\n",
       "      <th>RAM</th>\n",
       "      <th>Storage</th>\n",
       "    </tr>\n",
       "  </thead>\n",
       "  <tbody>\n",
       "    <tr>\n",
       "      <th>0</th>\n",
       "      <td>0</td>\n",
       "      <td>alcatel 1b (2022)</td>\n",
       "      <td>alcatel</td>\n",
       "      <td>True</td>\n",
       "      <td>True</td>\n",
       "      <td>True</td>\n",
       "      <td>False</td>\n",
       "      <td>2022.0</td>\n",
       "      <td>Available</td>\n",
       "      <td>172.0</td>\n",
       "      <td>...</td>\n",
       "      <td>5.0, A2DP</td>\n",
       "      <td>PowerVR GE8300</td>\n",
       "      <td>True</td>\n",
       "      <td>True</td>\n",
       "      <td>Mediatek MT6761 Helio A22 (12 nm)</td>\n",
       "      <td>GSM / HSPA / LTE HSPA 42.2/11.1 Mbps, LTE Cat4...</td>\n",
       "      <td>32GB 2GB RAM</td>\n",
       "      <td>microSDXC (dedicated slot)</td>\n",
       "      <td>2.0</td>\n",
       "      <td>32.0</td>\n",
       "    </tr>\n",
       "    <tr>\n",
       "      <th>1</th>\n",
       "      <td>1</td>\n",
       "      <td>alcatel 1l pro (2021)</td>\n",
       "      <td>alcatel</td>\n",
       "      <td>True</td>\n",
       "      <td>True</td>\n",
       "      <td>True</td>\n",
       "      <td>False</td>\n",
       "      <td>2021.0</td>\n",
       "      <td>Available</td>\n",
       "      <td>190.0</td>\n",
       "      <td>...</td>\n",
       "      <td>4.2, A2DP</td>\n",
       "      <td>IMG8322</td>\n",
       "      <td>True</td>\n",
       "      <td>True</td>\n",
       "      <td>Unisoc SC9863A (28nm)</td>\n",
       "      <td>GSM / HSPA / LTE HSPA 21.1/5.76 Mbps, LTE Cat4...</td>\n",
       "      <td>32GB 2GB RAM</td>\n",
       "      <td>microSDXC (uses shared SIM slot)</td>\n",
       "      <td>2.0</td>\n",
       "      <td>32.0</td>\n",
       "    </tr>\n",
       "    <tr>\n",
       "      <th>2</th>\n",
       "      <td>2</td>\n",
       "      <td>alcatel 1 (2021)</td>\n",
       "      <td>alcatel</td>\n",
       "      <td>True</td>\n",
       "      <td>True</td>\n",
       "      <td>True</td>\n",
       "      <td>False</td>\n",
       "      <td>2021.0</td>\n",
       "      <td>Available</td>\n",
       "      <td>134.0</td>\n",
       "      <td>...</td>\n",
       "      <td>4.2, A2DP, LE</td>\n",
       "      <td>PowerVR GE8100</td>\n",
       "      <td>True</td>\n",
       "      <td>True</td>\n",
       "      <td>Mediatek MT6739 (28 nm)</td>\n",
       "      <td>GSM / HSPA / LTE HSPA 42.2/11.5 Mbps, LTE Cat4...</td>\n",
       "      <td>8GB 1GB RAM, 16GB 1GB RAM</td>\n",
       "      <td>microSDHC (dedicated slot)</td>\n",
       "      <td>1.0</td>\n",
       "      <td>8.0</td>\n",
       "    </tr>\n",
       "    <tr>\n",
       "      <th>3</th>\n",
       "      <td>3</td>\n",
       "      <td>alcatel 3l (2021)</td>\n",
       "      <td>alcatel</td>\n",
       "      <td>True</td>\n",
       "      <td>True</td>\n",
       "      <td>True</td>\n",
       "      <td>False</td>\n",
       "      <td>2021.0</td>\n",
       "      <td>Available</td>\n",
       "      <td>194.0</td>\n",
       "      <td>...</td>\n",
       "      <td>5.0, A2DP, LE</td>\n",
       "      <td>PowerVR GE8320</td>\n",
       "      <td>True</td>\n",
       "      <td>True</td>\n",
       "      <td>Mediatek MT6762D Helio P22 (12 nm)</td>\n",
       "      <td>GSM / HSPA / LTE HSPA 42.2/5.76 Mbps, LTE Cat4...</td>\n",
       "      <td>64GB 4GB RAM</td>\n",
       "      <td>microSDXC (only single sim model)</td>\n",
       "      <td>4.0</td>\n",
       "      <td>64.0</td>\n",
       "    </tr>\n",
       "    <tr>\n",
       "      <th>4</th>\n",
       "      <td>4</td>\n",
       "      <td>alcatel 1s (2021)</td>\n",
       "      <td>alcatel</td>\n",
       "      <td>True</td>\n",
       "      <td>True</td>\n",
       "      <td>True</td>\n",
       "      <td>False</td>\n",
       "      <td>2021.0</td>\n",
       "      <td>Available</td>\n",
       "      <td>190.0</td>\n",
       "      <td>...</td>\n",
       "      <td>5.0, A2DP, LE</td>\n",
       "      <td>PowerVR GE8320</td>\n",
       "      <td>True</td>\n",
       "      <td>True</td>\n",
       "      <td>Mediatek MT6762D Helio P22 (12 nm)</td>\n",
       "      <td>GSM / HSPA / LTE HSPA 42.2/5.76 Mbps, LTE Cat4...</td>\n",
       "      <td>32GB 3GB RAM</td>\n",
       "      <td>microSDXC (uses shared SIM slot)</td>\n",
       "      <td>3.0</td>\n",
       "      <td>32.0</td>\n",
       "    </tr>\n",
       "  </tbody>\n",
       "</table>\n",
       "<p>5 rows × 37 columns</p>\n",
       "</div>"
      ],
      "text/plain": [
       "   Unnamed: 0                   name    brand    2G    3G    4G     5G  \\\n",
       "0           0      alcatel 1b (2022)  alcatel  True  True  True  False   \n",
       "1           1  alcatel 1l pro (2021)  alcatel  True  True  True  False   \n",
       "2           2       alcatel 1 (2021)  alcatel  True  True  True  False   \n",
       "3           3      alcatel 3l (2021)  alcatel  True  True  True  False   \n",
       "4           4      alcatel 1s (2021)  alcatel  True  True  True  False   \n",
       "\n",
       "   Announced     Status  Weight  ...      Bluetooth             GPU  \\\n",
       "0     2022.0  Available   172.0  ...      5.0, A2DP  PowerVR GE8300   \n",
       "1     2021.0  Available   190.0  ...      4.2, A2DP         IMG8322   \n",
       "2     2021.0  Available   134.0  ...  4.2, A2DP, LE  PowerVR GE8100   \n",
       "3     2021.0  Available   194.0  ...  5.0, A2DP, LE  PowerVR GE8320   \n",
       "4     2021.0  Available   190.0  ...  5.0, A2DP, LE  PowerVR GE8320   \n",
       "\n",
       "  Loudspeaker 3.5mm jack                             Chipset  \\\n",
       "0        True       True   Mediatek MT6761 Helio A22 (12 nm)   \n",
       "1        True       True               Unisoc SC9863A (28nm)   \n",
       "2        True       True             Mediatek MT6739 (28 nm)   \n",
       "3        True       True  Mediatek MT6762D Helio P22 (12 nm)   \n",
       "4        True       True  Mediatek MT6762D Helio P22 (12 nm)   \n",
       "\n",
       "                                             Network  \\\n",
       "0  GSM / HSPA / LTE HSPA 42.2/11.1 Mbps, LTE Cat4...   \n",
       "1  GSM / HSPA / LTE HSPA 21.1/5.76 Mbps, LTE Cat4...   \n",
       "2  GSM / HSPA / LTE HSPA 42.2/11.5 Mbps, LTE Cat4...   \n",
       "3  GSM / HSPA / LTE HSPA 42.2/5.76 Mbps, LTE Cat4...   \n",
       "4  GSM / HSPA / LTE HSPA 42.2/5.76 Mbps, LTE Cat4...   \n",
       "\n",
       "                    Internal                          Card slot  RAM  Storage  \n",
       "0               32GB 2GB RAM         microSDXC (dedicated slot)  2.0     32.0  \n",
       "1               32GB 2GB RAM   microSDXC (uses shared SIM slot)  2.0     32.0  \n",
       "2  8GB 1GB RAM, 16GB 1GB RAM         microSDHC (dedicated slot)  1.0      8.0  \n",
       "3               64GB 4GB RAM  microSDXC (only single sim model)  4.0     64.0  \n",
       "4               32GB 3GB RAM   microSDXC (uses shared SIM slot)  3.0     32.0  \n",
       "\n",
       "[5 rows x 37 columns]"
      ]
     },
     "execution_count": 39,
     "metadata": {},
     "output_type": "execute_result"
    }
   ],
   "source": [
    "df = pd.read_csv('./data.csv')\n",
    "df.head()"
   ]
  },
  {
   "cell_type": "code",
   "execution_count": 4,
   "metadata": {},
   "outputs": [
    {
     "data": {
      "text/plain": [
       "Index(['Unnamed: 0', 'name', 'brand', '2G', '3G', '4G', '5G', 'Announced',\n",
       "       'Status', 'Weight', 'Length', 'Width', 'Diameter', 'SIM',\n",
       "       'Display Type', 'Display Size', 'ppi', 'body ratio', 'OS',\n",
       "       'battery_capacity', 'Price', 'CPU', 'ratio', 'pixel', 'WLAN', 'Colors',\n",
       "       'Sensors', 'Bluetooth', 'GPU', 'Loudspeaker', '3.5mm jack', 'Chipset',\n",
       "       'Network', 'Internal', 'Card slot', 'RAM', 'Storage'],\n",
       "      dtype='object')"
      ]
     },
     "execution_count": 4,
     "metadata": {},
     "output_type": "execute_result"
    }
   ],
   "source": [
    "df.columns"
   ]
  },
  {
   "cell_type": "code",
   "execution_count": 5,
   "metadata": {},
   "outputs": [
    {
     "data": {
      "text/html": [
       "<div>\n",
       "<style scoped>\n",
       "    .dataframe tbody tr th:only-of-type {\n",
       "        vertical-align: middle;\n",
       "    }\n",
       "\n",
       "    .dataframe tbody tr th {\n",
       "        vertical-align: top;\n",
       "    }\n",
       "\n",
       "    .dataframe thead th {\n",
       "        text-align: right;\n",
       "    }\n",
       "</style>\n",
       "<table border=\"1\" class=\"dataframe\">\n",
       "  <thead>\n",
       "    <tr style=\"text-align: right;\">\n",
       "      <th></th>\n",
       "      <th>Unnamed: 0</th>\n",
       "      <th>Announced</th>\n",
       "      <th>Weight</th>\n",
       "      <th>Display Size</th>\n",
       "      <th>ppi</th>\n",
       "      <th>body ratio</th>\n",
       "      <th>battery_capacity</th>\n",
       "      <th>Price</th>\n",
       "      <th>CPU</th>\n",
       "      <th>pixel</th>\n",
       "      <th>RAM</th>\n",
       "      <th>Storage</th>\n",
       "    </tr>\n",
       "  </thead>\n",
       "  <tbody>\n",
       "    <tr>\n",
       "      <th>count</th>\n",
       "      <td>2651.000000</td>\n",
       "      <td>2651.000000</td>\n",
       "      <td>2651.000000</td>\n",
       "      <td>2651.000000</td>\n",
       "      <td>2651.000000</td>\n",
       "      <td>2651.000000</td>\n",
       "      <td>2651.000000</td>\n",
       "      <td>2651.000000</td>\n",
       "      <td>2372.000000</td>\n",
       "      <td>2.651000e+03</td>\n",
       "      <td>2651.000000</td>\n",
       "      <td>2651.000000</td>\n",
       "    </tr>\n",
       "    <tr>\n",
       "      <th>mean</th>\n",
       "      <td>2495.184081</td>\n",
       "      <td>2016.577518</td>\n",
       "      <td>190.389325</td>\n",
       "      <td>5.759838</td>\n",
       "      <td>312.312335</td>\n",
       "      <td>71.775556</td>\n",
       "      <td>3385.437948</td>\n",
       "      <td>242.896775</td>\n",
       "      <td>5.847808</td>\n",
       "      <td>1.576779e+06</td>\n",
       "      <td>2.901974</td>\n",
       "      <td>46.621613</td>\n",
       "    </tr>\n",
       "    <tr>\n",
       "      <th>std</th>\n",
       "      <td>1290.683411</td>\n",
       "      <td>3.656827</td>\n",
       "      <td>97.208564</td>\n",
       "      <td>1.628346</td>\n",
       "      <td>101.907171</td>\n",
       "      <td>11.262514</td>\n",
       "      <td>1627.512406</td>\n",
       "      <td>193.726059</td>\n",
       "      <td>2.372880</td>\n",
       "      <td>1.181280e+06</td>\n",
       "      <td>2.493559</td>\n",
       "      <td>60.823522</td>\n",
       "    </tr>\n",
       "    <tr>\n",
       "      <th>min</th>\n",
       "      <td>0.000000</td>\n",
       "      <td>2010.000000</td>\n",
       "      <td>89.300000</td>\n",
       "      <td>2.200000</td>\n",
       "      <td>121.000000</td>\n",
       "      <td>25.500000</td>\n",
       "      <td>50.000000</td>\n",
       "      <td>20.000000</td>\n",
       "      <td>2.000000</td>\n",
       "      <td>7.680000e+04</td>\n",
       "      <td>0.062500</td>\n",
       "      <td>0.039062</td>\n",
       "    </tr>\n",
       "    <tr>\n",
       "      <th>25%</th>\n",
       "      <td>1450.000000</td>\n",
       "      <td>2014.000000</td>\n",
       "      <td>140.100000</td>\n",
       "      <td>4.700000</td>\n",
       "      <td>233.000000</td>\n",
       "      <td>64.650000</td>\n",
       "      <td>2070.000000</td>\n",
       "      <td>130.000000</td>\n",
       "      <td>4.000000</td>\n",
       "      <td>5.184000e+05</td>\n",
       "      <td>1.000000</td>\n",
       "      <td>8.000000</td>\n",
       "    </tr>\n",
       "    <tr>\n",
       "      <th>50%</th>\n",
       "      <td>2455.000000</td>\n",
       "      <td>2016.000000</td>\n",
       "      <td>167.000000</td>\n",
       "      <td>5.500000</td>\n",
       "      <td>288.000000</td>\n",
       "      <td>71.400000</td>\n",
       "      <td>3000.000000</td>\n",
       "      <td>190.000000</td>\n",
       "      <td>8.000000</td>\n",
       "      <td>1.094400e+06</td>\n",
       "      <td>2.000000</td>\n",
       "      <td>16.000000</td>\n",
       "    </tr>\n",
       "    <tr>\n",
       "      <th>75%</th>\n",
       "      <td>3681.000000</td>\n",
       "      <td>2020.000000</td>\n",
       "      <td>195.000000</td>\n",
       "      <td>6.530000</td>\n",
       "      <td>400.000000</td>\n",
       "      <td>81.800000</td>\n",
       "      <td>4500.000000</td>\n",
       "      <td>290.000000</td>\n",
       "      <td>8.000000</td>\n",
       "      <td>2.527200e+06</td>\n",
       "      <td>4.000000</td>\n",
       "      <td>64.000000</td>\n",
       "    </tr>\n",
       "    <tr>\n",
       "      <th>max</th>\n",
       "      <td>4678.000000</td>\n",
       "      <td>2024.000000</td>\n",
       "      <td>950.000000</td>\n",
       "      <td>14.600000</td>\n",
       "      <td>807.000000</td>\n",
       "      <td>94.100000</td>\n",
       "      <td>11560.000000</td>\n",
       "      <td>2000.000000</td>\n",
       "      <td>10.000000</td>\n",
       "      <td>8.294400e+06</td>\n",
       "      <td>16.000000</td>\n",
       "      <td>512.000000</td>\n",
       "    </tr>\n",
       "  </tbody>\n",
       "</table>\n",
       "</div>"
      ],
      "text/plain": [
       "        Unnamed: 0    Announced       Weight  Display Size          ppi  \\\n",
       "count  2651.000000  2651.000000  2651.000000   2651.000000  2651.000000   \n",
       "mean   2495.184081  2016.577518   190.389325      5.759838   312.312335   \n",
       "std    1290.683411     3.656827    97.208564      1.628346   101.907171   \n",
       "min       0.000000  2010.000000    89.300000      2.200000   121.000000   \n",
       "25%    1450.000000  2014.000000   140.100000      4.700000   233.000000   \n",
       "50%    2455.000000  2016.000000   167.000000      5.500000   288.000000   \n",
       "75%    3681.000000  2020.000000   195.000000      6.530000   400.000000   \n",
       "max    4678.000000  2024.000000   950.000000     14.600000   807.000000   \n",
       "\n",
       "        body ratio  battery_capacity        Price          CPU         pixel  \\\n",
       "count  2651.000000       2651.000000  2651.000000  2372.000000  2.651000e+03   \n",
       "mean     71.775556       3385.437948   242.896775     5.847808  1.576779e+06   \n",
       "std      11.262514       1627.512406   193.726059     2.372880  1.181280e+06   \n",
       "min      25.500000         50.000000    20.000000     2.000000  7.680000e+04   \n",
       "25%      64.650000       2070.000000   130.000000     4.000000  5.184000e+05   \n",
       "50%      71.400000       3000.000000   190.000000     8.000000  1.094400e+06   \n",
       "75%      81.800000       4500.000000   290.000000     8.000000  2.527200e+06   \n",
       "max      94.100000      11560.000000  2000.000000    10.000000  8.294400e+06   \n",
       "\n",
       "               RAM      Storage  \n",
       "count  2651.000000  2651.000000  \n",
       "mean      2.901974    46.621613  \n",
       "std       2.493559    60.823522  \n",
       "min       0.062500     0.039062  \n",
       "25%       1.000000     8.000000  \n",
       "50%       2.000000    16.000000  \n",
       "75%       4.000000    64.000000  \n",
       "max      16.000000   512.000000  "
      ]
     },
     "execution_count": 5,
     "metadata": {},
     "output_type": "execute_result"
    }
   ],
   "source": [
    "df.describe()"
   ]
  },
  {
   "cell_type": "markdown",
   "metadata": {},
   "source": [
    "Spliting Test and Train Data"
   ]
  },
  {
   "cell_type": "code",
   "execution_count": 40,
   "metadata": {},
   "outputs": [],
   "source": [
    "target = df['OS']\n",
    "df.drop('OS', axis=1, inplace=True)"
   ]
  },
  {
   "cell_type": "code",
   "execution_count": 41,
   "metadata": {},
   "outputs": [],
   "source": [
    "X_train, X_test, y_train, t_test = train_test_split(df, target, test_size=0.15, random_state=42)"
   ]
  },
  {
   "cell_type": "markdown",
   "metadata": {},
   "source": [
    "split Train and Validation dataset"
   ]
  },
  {
   "cell_type": "code",
   "execution_count": 42,
   "metadata": {},
   "outputs": [],
   "source": [
    "X_tr, X_val, y_tr, t_val = train_test_split(X_train, y_train, test_size=0.15, random_state=42)"
   ]
  },
  {
   "cell_type": "markdown",
   "metadata": {},
   "source": [
    "### 1. EDA & Pre-Processing"
   ]
  },
  {
   "cell_type": "markdown",
   "metadata": {},
   "source": [
    "Now we are going to have a small overview on our train data"
   ]
  },
  {
   "cell_type": "code",
   "execution_count": 43,
   "metadata": {},
   "outputs": [
    {
     "data": {
      "text/plain": [
       "(1915, 36)"
      ]
     },
     "execution_count": 43,
     "metadata": {},
     "output_type": "execute_result"
    }
   ],
   "source": [
    "X_tr.shape"
   ]
  },
  {
   "cell_type": "code",
   "execution_count": 44,
   "metadata": {},
   "outputs": [
    {
     "name": "stdout",
     "output_type": "stream",
     "text": [
      "<class 'pandas.core.frame.DataFrame'>\n",
      "Index: 1915 entries, 390 to 187\n",
      "Data columns (total 36 columns):\n",
      " #   Column            Non-Null Count  Dtype  \n",
      "---  ------            --------------  -----  \n",
      " 0   Unnamed: 0        1915 non-null   int64  \n",
      " 1   name              1915 non-null   object \n",
      " 2   brand             1915 non-null   object \n",
      " 3   2G                1915 non-null   bool   \n",
      " 4   3G                1915 non-null   bool   \n",
      " 5   4G                1915 non-null   bool   \n",
      " 6   5G                1915 non-null   bool   \n",
      " 7   Announced         1915 non-null   float64\n",
      " 8   Status            1915 non-null   object \n",
      " 9   Weight            1915 non-null   float64\n",
      " 10  Length            1915 non-null   object \n",
      " 11  Width             1915 non-null   object \n",
      " 12  Diameter          1915 non-null   object \n",
      " 13  SIM               1915 non-null   object \n",
      " 14  Display Type      1915 non-null   object \n",
      " 15  Display Size      1915 non-null   float64\n",
      " 16  ppi               1915 non-null   float64\n",
      " 17  body ratio        1915 non-null   float64\n",
      " 18  battery_capacity  1915 non-null   float64\n",
      " 19  Price             1915 non-null   float64\n",
      " 20  CPU               1707 non-null   float64\n",
      " 21  ratio             1915 non-null   object \n",
      " 22  pixel             1915 non-null   float64\n",
      " 23  WLAN              1914 non-null   object \n",
      " 24  Colors            1914 non-null   object \n",
      " 25  Sensors           1900 non-null   object \n",
      " 26  Bluetooth         1915 non-null   object \n",
      " 27  GPU               1748 non-null   object \n",
      " 28  Loudspeaker       1915 non-null   bool   \n",
      " 29  3.5mm jack        1915 non-null   bool   \n",
      " 30  Chipset           1723 non-null   object \n",
      " 31  Network           1915 non-null   object \n",
      " 32  Internal          1915 non-null   object \n",
      " 33  Card slot         1915 non-null   object \n",
      " 34  RAM               1915 non-null   float64\n",
      " 35  Storage           1915 non-null   float64\n",
      "dtypes: bool(6), float64(11), int64(1), object(18)\n",
      "memory usage: 475.0+ KB\n"
     ]
    }
   ],
   "source": [
    "X_tr.info()"
   ]
  },
  {
   "cell_type": "code",
   "execution_count": 45,
   "metadata": {},
   "outputs": [
    {
     "data": {
      "text/plain": [
       "Index(['Unnamed: 0', 'name', 'brand', '2G', '3G', '4G', '5G', 'Announced',\n",
       "       'Status', 'Weight', 'Length', 'Width', 'Diameter', 'SIM',\n",
       "       'Display Type', 'Display Size', 'ppi', 'body ratio', 'battery_capacity',\n",
       "       'Price', 'CPU', 'ratio', 'pixel', 'WLAN', 'Colors', 'Sensors',\n",
       "       'Bluetooth', 'GPU', 'Loudspeaker', '3.5mm jack', 'Chipset', 'Network',\n",
       "       'Internal', 'Card slot', 'RAM', 'Storage'],\n",
       "      dtype='object')"
      ]
     },
     "execution_count": 45,
     "metadata": {},
     "output_type": "execute_result"
    }
   ],
   "source": [
    "X_tr.columns"
   ]
  },
  {
   "cell_type": "code",
   "execution_count": 46,
   "metadata": {},
   "outputs": [
    {
     "data": {
      "text/plain": [
       "Unnamed: 0\n",
       "989     1\n",
       "1573    1\n",
       "2276    1\n",
       "2879    1\n",
       "4159    1\n",
       "       ..\n",
       "168     1\n",
       "2132    1\n",
       "1983    1\n",
       "4303    1\n",
       "552     1\n",
       "Name: count, Length: 1915, dtype: int64"
      ]
     },
     "execution_count": 46,
     "metadata": {},
     "output_type": "execute_result"
    }
   ],
   "source": [
    "X_tr['Unnamed: 0'].value_counts()"
   ]
  },
  {
   "cell_type": "markdown",
   "metadata": {},
   "source": [
    "Due to its variety, It seems like This column is not very Useful. So, we are going to remove this column."
   ]
  },
  {
   "cell_type": "code",
   "execution_count": 93,
   "metadata": {},
   "outputs": [
    {
     "data": {
      "text/plain": [
       "name\n",
       "blu life pure xl                    1\n",
       "huawei mate 20 rs porsche design    1\n",
       "lg stylus 3                         1\n",
       "nokia 701                           1\n",
       "samsung galaxy j1 nxt               1\n",
       "                                   ..\n",
       "alcatel one touch scribe easy       1\n",
       "lenovo s930                         1\n",
       "lenovo a8 2020                      1\n",
       "samsung galaxy note pro 12 2 3g     1\n",
       "asus zenfone 6 zs630kl              1\n",
       "Name: count, Length: 1915, dtype: int64"
      ]
     },
     "execution_count": 93,
     "metadata": {},
     "output_type": "execute_result"
    }
   ],
   "source": [
    "X_tr['name'].value_counts()"
   ]
  },
  {
   "cell_type": "markdown",
   "metadata": {},
   "source": [
    "For the same reason, this column is useless too. So, we are going to remove this column."
   ]
  },
  {
   "cell_type": "code",
   "execution_count": 94,
   "metadata": {},
   "outputs": [
    {
     "data": {
      "text/plain": [
       "brand\n",
       "samsung    378\n",
       "xiaomi     209\n",
       "huawei     203\n",
       "lg         163\n",
       "zte        151\n",
       "htc        148\n",
       "lenovo     118\n",
       "nokia      111\n",
       "blu        103\n",
       "alcatel     90\n",
       "sony        86\n",
       "asus        76\n",
       "apple       50\n",
       "infinix     29\n",
       "Name: count, dtype: int64"
      ]
     },
     "execution_count": 94,
     "metadata": {},
     "output_type": "execute_result"
    }
   ],
   "source": [
    "X_tr.brand.value_counts()"
   ]
  },
  {
   "cell_type": "markdown",
   "metadata": {},
   "source": [
    "Seems like this is a useful column. but for the sake of question we will drop this column too"
   ]
  },
  {
   "cell_type": "code",
   "execution_count": 178,
   "metadata": {},
   "outputs": [
    {
     "data": {
      "text/plain": [
       "<Axes: >"
      ]
     },
     "execution_count": 178,
     "metadata": {},
     "output_type": "execute_result"
    },
    {
     "data": {
      "image/png": "[encoded data removed]",
      "text/plain": [
       "<Figure size 640x480 with 1 Axes>"
      ]
     },
     "metadata": {},
     "output_type": "display_data"
    }
   ],
   "source": [
    "X_tr['2G'].hist()"
   ]
  },
  {
   "cell_type": "markdown",
   "metadata": {},
   "source": [
    "It looks like this column is 1 for all of our data. So, It is not useful for our decision tree and we can remove it "
   ]
  },
  {
   "cell_type": "code",
   "execution_count": 179,
   "metadata": {},
   "outputs": [
    {
     "data": {
      "text/plain": [
       "<Axes: >"
      ]
     },
     "execution_count": 179,
     "metadata": {},
     "output_type": "execute_result"
    },
    {
     "data": {
      "image/png": "[encoded data removed]",
      "text/plain": [
       "<Figure size 640x480 with 1 Axes>"
      ]
     },
     "metadata": {},
     "output_type": "display_data"
    }
   ],
   "source": [
    "X_tr['3G'].apply(lambda x: 1 if x else 0).hist()"
   ]
  },
  {
   "cell_type": "code",
   "execution_count": 180,
   "metadata": {},
   "outputs": [
    {
     "data": {
      "text/plain": [
       "<Axes: >"
      ]
     },
     "execution_count": 180,
     "metadata": {},
     "output_type": "execute_result"
    },
    {
     "data": {
      "image/png": "[encoded data removed]",
      "text/plain": [
       "<Figure size 640x480 with 1 Axes>"
      ]
     },
     "metadata": {},
     "output_type": "display_data"
    }
   ],
   "source": [
    "X_tr['4G'].apply(lambda x: 1 if x else 0).hist()"
   ]
  },
  {
   "cell_type": "code",
   "execution_count": 181,
   "metadata": {},
   "outputs": [
    {
     "data": {
      "text/plain": [
       "<Axes: >"
      ]
     },
     "execution_count": 181,
     "metadata": {},
     "output_type": "execute_result"
    },
    {
     "data": {
      "image/png": "[encoded data removed]",
      "text/plain": [
       "<Figure size 640x480 with 1 Axes>"
      ]
     },
     "metadata": {},
     "output_type": "display_data"
    }
   ],
   "source": [
    "X_tr['5G'].apply(lambda x: 1 if x else 0).hist()"
   ]
  },
  {
   "cell_type": "code",
   "execution_count": 182,
   "metadata": {},
   "outputs": [
    {
     "data": {
      "text/plain": [
       "<Axes: >"
      ]
     },
     "execution_count": 182,
     "metadata": {},
     "output_type": "execute_result"
    },
    {
     "data": {
      "image/png": "[encoded data removed]",
      "text/plain": [
       "<Figure size 640x480 with 1 Axes>"
      ]
     },
     "metadata": {},
     "output_type": "display_data"
    }
   ],
   "source": [
    "X_tr['Announced'].hist()"
   ]
  },
  {
   "cell_type": "code",
   "execution_count": 183,
   "metadata": {},
   "outputs": [
    {
     "data": {
      "text/plain": [
       "Status\n",
       "Discontinued    976\n",
       "Available       936\n",
       "Coming            3\n",
       "Name: count, dtype: int64"
      ]
     },
     "execution_count": 183,
     "metadata": {},
     "output_type": "execute_result"
    }
   ],
   "source": [
    "X_tr['Status'].value_counts()\n"
   ]
  },
  {
   "cell_type": "code",
   "execution_count": 184,
   "metadata": {},
   "outputs": [
    {
     "data": {
      "text/plain": [
       "Weight\n",
       "160.0    41\n",
       "150.0    37\n",
       "130.0    33\n",
       "145.0    32\n",
       "155.0    28\n",
       "         ..\n",
       "265.0     1\n",
       "631.0     1\n",
       "295.1     1\n",
       "194.8     1\n",
       "177.6     1\n",
       "Name: count, Length: 398, dtype: int64"
      ]
     },
     "execution_count": 184,
     "metadata": {},
     "output_type": "execute_result"
    }
   ],
   "source": [
    "X_tr['Weight'].value_counts()"
   ]
  },
  {
   "cell_type": "markdown",
   "metadata": {},
   "source": [
    "The variety of Weight is a lot. so we can round them up to the nearest multiple of ten. "
   ]
  },
  {
   "cell_type": "markdown",
   "metadata": {},
   "source": [
    "As the variety of Length and Width is a lot, we present a formula to combine these two elements. we can use these two to compute the area of a cellphone. but befor that, we will round the amount of them up to the nearest multiple of ten. \n",
    "\n",
    "But unfortunetly there is a problem in these data and not all of them are float! so, we should correct them with 'toFloat' function"
   ]
  },
  {
   "cell_type": "code",
   "execution_count": 47,
   "metadata": {},
   "outputs": [],
   "source": [
    "def toFloat(x):\n",
    "    try:\n",
    "        return float(x)\n",
    "    except:\n",
    "        try:\n",
    "            return float(x.split(' ')[1])\n",
    "        except:\n",
    "            return float(x.split(' ')[0])\n",
    "X_tr['Length'] = X_tr['Length'].apply(toFloat)\n",
    "X_tr['Width'] = X_tr['Width'].apply(toFloat)"
   ]
  },
  {
   "cell_type": "code",
   "execution_count": 48,
   "metadata": {},
   "outputs": [],
   "source": [
    "X_tr['Length_new'] = X_tr['Length'].apply(lambda x: int(math.ceil(float(x) / 10.0)) * 10)\n",
    "X_tr['Width_new'] = X_tr['Width'].apply(lambda x: int(math.ceil(float(x) / 10.0)) * 10)"
   ]
  },
  {
   "cell_type": "code",
   "execution_count": 49,
   "metadata": {},
   "outputs": [
    {
     "data": {
      "text/plain": [
       "<Axes: >"
      ]
     },
     "execution_count": 49,
     "metadata": {},
     "output_type": "execute_result"
    },
    {
     "data": {
      "image/png": "[encoded data removed]",
      "text/plain": [
       "<Figure size 640x480 with 1 Axes>"
      ]
     },
     "metadata": {},
     "output_type": "display_data"
    }
   ],
   "source": [
    "X_tr['Length_new'].hist(bins=20)"
   ]
  },
  {
   "cell_type": "code",
   "execution_count": 190,
   "metadata": {},
   "outputs": [
    {
     "data": {
      "text/plain": [
       "<Axes: >"
      ]
     },
     "execution_count": 190,
     "metadata": {},
     "output_type": "execute_result"
    },
    {
     "data": {
      "image/png": "[encoded data removed]",
      "text/plain": [
       "<Figure size 640x480 with 1 Axes>"
      ]
     },
     "metadata": {},
     "output_type": "display_data"
    }
   ],
   "source": [
    "X_tr['Width_new'].hist(bins=20)"
   ]
  },
  {
   "cell_type": "code",
   "execution_count": 50,
   "metadata": {},
   "outputs": [],
   "source": [
    "X_tr['area'] = X_tr['Length_new']*X_tr['Width_new']"
   ]
  },
  {
   "cell_type": "code",
   "execution_count": 192,
   "metadata": {},
   "outputs": [
    {
     "data": {
      "text/plain": [
       "<Axes: >"
      ]
     },
     "execution_count": 192,
     "metadata": {},
     "output_type": "execute_result"
    },
    {
     "data": {
      "image/png": "[encoded data removed]",
      "text/plain": [
       "<Figure size 640x480 with 1 Axes>"
      ]
     },
     "metadata": {},
     "output_type": "display_data"
    }
   ],
   "source": [
    "X_tr['area'].hist(bins=20)"
   ]
  },
  {
   "cell_type": "markdown",
   "metadata": {},
   "source": [
    "'area' is very diverse and will be usefull for our work\n",
    "\n",
    "Diameter will be processed as well as Length and Width. but instead we will round them to the nearest multiple of 5"
   ]
  },
  {
   "cell_type": "code",
   "execution_count": 51,
   "metadata": {},
   "outputs": [],
   "source": [
    "def DtoFloat(x):\n",
    "    try:\n",
    "        return float(x)\n",
    "    except:\n",
    "        return float(x.split('-')[1].strip())\n",
    "X_tr['Diameter'] = X_tr['Diameter'].apply(DtoFloat)"
   ]
  },
  {
   "cell_type": "code",
   "execution_count": 52,
   "metadata": {},
   "outputs": [],
   "source": [
    "X_tr['Diameter_new'] = X_tr['Diameter'].apply(lambda x: int(math.ceil(float(x) / 5.0)) * 5)"
   ]
  },
  {
   "cell_type": "code",
   "execution_count": 196,
   "metadata": {},
   "outputs": [
    {
     "data": {
      "text/plain": [
       "Diameter_new\n",
       "10    1533\n",
       "15     369\n",
       "20      11\n",
       "5        1\n",
       "25       1\n",
       "Name: count, dtype: int64"
      ]
     },
     "execution_count": 196,
     "metadata": {},
     "output_type": "execute_result"
    }
   ],
   "source": [
    "X_tr['Diameter_new'].value_counts()"
   ]
  },
  {
   "cell_type": "code",
   "execution_count": 53,
   "metadata": {},
   "outputs": [
    {
     "data": {
      "text/plain": [
       "SIM\n",
       "Nano-SIM     1055\n",
       "Micro-SIM     450\n",
       "Mini-SIM      336\n",
       "eSIM           74\n",
       "Name: count, dtype: int64"
      ]
     },
     "execution_count": 53,
     "metadata": {},
     "output_type": "execute_result"
    }
   ],
   "source": [
    "X_tr['SIM'].value_counts()"
   ]
  },
  {
   "cell_type": "markdown",
   "metadata": {},
   "source": [
    "'SIM' column has will be used as it is."
   ]
  },
  {
   "cell_type": "code",
   "execution_count": 54,
   "metadata": {},
   "outputs": [
    {
     "data": {
      "text/plain": [
       "Display Type\n",
       "IPS LCD                                          757\n",
       "TFT                                              161\n",
       "Super AMOLED                                     145\n",
       "TFT, 256K colors                                  70\n",
       "AMOLED                                            47\n",
       "                                                ... \n",
       "AMOLED, 450 nits (typ), 1100 nits (peak)           1\n",
       "Super AMOLED, 120Hz, HDR10+, 1100 nits (peak)      1\n",
       "AMOLED, 1B colors, 120Hz, 1600 nits (peak)         1\n",
       "OLED, 1B colors, 120Hz                             1\n",
       "AMOLED, 120Hz, HDR10+, 1300 nits (peak)            1\n",
       "Name: count, Length: 256, dtype: int64"
      ]
     },
     "execution_count": 54,
     "metadata": {},
     "output_type": "execute_result"
    }
   ],
   "source": [
    "X_tr['Display Type'].value_counts()"
   ]
  },
  {
   "cell_type": "markdown",
   "metadata": {},
   "source": [
    "As we can see, there are a lot of display type. we will categorized them."
   ]
  },
  {
   "cell_type": "code",
   "execution_count": 55,
   "metadata": {},
   "outputs": [],
   "source": [
    "def display_type(x):\n",
    "    if 'IPS' in x:\n",
    "        return 'IPS'\n",
    "    elif 'Super AMOLED' in x:\n",
    "        return 'Super AMOLED'\n",
    "    elif 'OLED' in x:\n",
    "        return 'OLED'\n",
    "    elif 'PLS' in x:\n",
    "        return 'PLS'\n",
    "    elif 'Dynamic' in x:\n",
    "        return 'Dynamic'\n",
    "    elif 'S-LCD' in x:\n",
    "        return 'S-LCD'\n",
    "    elif 'LCD' in x:\n",
    "        return 'LCD'\n",
    "    elif 'LED-backlit' in x:\n",
    "        return 'LED-backlit'\n",
    "    else:\n",
    "        return 'other'\n",
    "    \n",
    "X_tr['Display Type'] = X_tr['Display Type'].apply(display_type)"
   ]
  },
  {
   "cell_type": "code",
   "execution_count": 16,
   "metadata": {},
   "outputs": [
    {
     "data": {
      "text/plain": [
       "Display Type\n",
       "IPS             975\n",
       "OLED            272\n",
       "other           254\n",
       "Super AMOLED    219\n",
       "LCD             117\n",
       "PLS              55\n",
       "S-LCD            23\n",
       "Name: count, dtype: int64"
      ]
     },
     "execution_count": 16,
     "metadata": {},
     "output_type": "execute_result"
    }
   ],
   "source": [
    "X_tr['Display Type'].value_counts()"
   ]
  },
  {
   "cell_type": "code",
   "execution_count": 56,
   "metadata": {},
   "outputs": [
    {
     "data": {
      "text/plain": [
       "Display Size\n",
       "6     571\n",
       "5     387\n",
       "7     365\n",
       "4     356\n",
       "10     72\n",
       "3      65\n",
       "8      50\n",
       "11     18\n",
       "13      8\n",
       "12      8\n",
       "9       7\n",
       "2       6\n",
       "15      2\n",
       "Name: count, dtype: int64"
      ]
     },
     "execution_count": 56,
     "metadata": {},
     "output_type": "execute_result"
    }
   ],
   "source": [
    "X_tr['Display Size'].apply(lambda x: round(x)).value_counts()"
   ]
  },
  {
   "cell_type": "code",
   "execution_count": 57,
   "metadata": {},
   "outputs": [],
   "source": [
    "X_tr['ppi'] = X_tr['ppi'].apply(lambda x: int(math.ceil(float(x) / 5.0)) * 5)"
   ]
  },
  {
   "cell_type": "code",
   "execution_count": 58,
   "metadata": {},
   "outputs": [],
   "source": [
    "X_val['body ratio'] = X_val['body ratio'].apply(lambda x: int(math.ceil(float(x) / 5.0)) * 5)"
   ]
  },
  {
   "cell_type": "code",
   "execution_count": 59,
   "metadata": {},
   "outputs": [],
   "source": [
    "X_val['battery_capacity'] = X_val['battery_capacity'].apply(lambda x: int(math.ceil(float(x) / 1000.0)) * 1000)"
   ]
  },
  {
   "cell_type": "code",
   "execution_count": 60,
   "metadata": {},
   "outputs": [],
   "source": [
    "X_val['Price'] = X_val['Price'].apply(lambda x: int(math.ceil(float(x) / 50.0)) * 50)"
   ]
  },
  {
   "cell_type": "code",
   "execution_count": 207,
   "metadata": {},
   "outputs": [
    {
     "data": {
      "text/plain": [
       "<Axes: >"
      ]
     },
     "execution_count": 207,
     "metadata": {},
     "output_type": "execute_result"
    },
    {
     "data": {
      "image/png": "[encoded data removed]",
      "text/plain": [
       "<Figure size 640x480 with 1 Axes>"
      ]
     },
     "metadata": {},
     "output_type": "display_data"
    }
   ],
   "source": [
    "X_val['Price'].hist(bins=20)"
   ]
  },
  {
   "cell_type": "code",
   "execution_count": 204,
   "metadata": {},
   "outputs": [
    {
     "data": {
      "text/plain": [
       "CPU\n",
       "8.0     907\n",
       "4.0     520\n",
       "2.0     241\n",
       "6.0      36\n",
       "10.0      2\n",
       "3.0       1\n",
       "Name: count, dtype: int64"
      ]
     },
     "execution_count": 204,
     "metadata": {},
     "output_type": "execute_result"
    }
   ],
   "source": [
    "X_tr['CPU'].value_counts()"
   ]
  },
  {
   "cell_type": "code",
   "execution_count": 205,
   "metadata": {},
   "outputs": [
    {
     "data": {
      "text/plain": [
       "ratio\n",
       "16:9     714\n",
       "20:9     340\n",
       "5:3      211\n",
       "5:9      183\n",
       "16:10    131\n",
       "18:9     112\n",
       "4:3       75\n",
       "3:2       65\n",
       "19:9      49\n",
       "21:9      15\n",
       "7:9       10\n",
       "3:9        8\n",
       "17:9       2\n",
       "Name: count, dtype: int64"
      ]
     },
     "execution_count": 205,
     "metadata": {},
     "output_type": "execute_result"
    }
   ],
   "source": [
    "X_tr['ratio'].value_counts()"
   ]
  },
  {
   "cell_type": "code",
   "execution_count": 124,
   "metadata": {},
   "outputs": [
    {
     "data": {
      "text/plain": [
       "pixel\n",
       "921600.0     252\n",
       "2073600.0    196\n",
       "384000.0     189\n",
       "2592000.0    175\n",
       "1152000.0     98\n",
       "            ... \n",
       "3170592.0      1\n",
       "3307536.0      1\n",
       "3932160.0      1\n",
       "3709632.0      1\n",
       "403200.0       1\n",
       "Name: count, Length: 81, dtype: int64"
      ]
     },
     "execution_count": 124,
     "metadata": {},
     "output_type": "execute_result"
    }
   ],
   "source": [
    "X_tr['pixel'].value_counts()"
   ]
  },
  {
   "cell_type": "markdown",
   "metadata": {},
   "source": [
    "'Pixel' column is duplicated with 'ppi' and 'display_size' so we can remove it"
   ]
  },
  {
   "cell_type": "code",
   "execution_count": 125,
   "metadata": {},
   "outputs": [
    {
     "data": {
      "text/plain": [
       "WLAN\n",
       "Wi-Fi 802.11 a/b/g/n/ac, dual-band, Wi-Fi Direct                                                          308\n",
       "Wi-Fi 802.11 b/g/n, Wi-Fi Direct                                                                          232\n",
       "Wi-Fi 802.11 b/g/n                                                                                        159\n",
       "Wi-Fi 802.11 b/g/n, hotspot                                                                               153\n",
       "Wi-Fi 802.11 b/g/n, Wi-Fi Direct, hotspot                                                                 114\n",
       "                                                                                                         ... \n",
       "Wi-Fi 802.11 a/b/g/n, dual band, DLNA                                                                       1\n",
       "Wi-Fi 802.11 a/b/g/n, Wi-Fi Direct, DLNAorWi-Fi 802.11 b/g/n, Wi-Fi Direct, DLNA                            1\n",
       "Wi-Fi 802.11 a/b/g/n/ac/6/i/r, dual-band, Wi-Fi Direct                                                      1\n",
       "Wi-Fi 802.11 b/g/n, DLNA, WiMAX 802.16 e                                                                    1\n",
       "Wi-Fi 802.11 a/b/g/n/ac, dual-band, Wi-Fi Direct - STK-AL00Wi-Fi 802.11 b/g/n, Wi-Fi Direct - STK-TL00      1\n",
       "Name: count, Length: 116, dtype: int64"
      ]
     },
     "execution_count": 125,
     "metadata": {},
     "output_type": "execute_result"
    }
   ],
   "source": [
    "X_tr['WLAN'].value_counts()"
   ]
  },
  {
   "cell_type": "markdown",
   "metadata": {},
   "source": [
    "Colors and Sensors of cellphones are very different, so we extract a feature from them. we will count the colors and sensorsed that was released with"
   ]
  },
  {
   "cell_type": "code",
   "execution_count": 61,
   "metadata": {},
   "outputs": [],
   "source": [
    "def CountColor(x):\n",
    "    try:\n",
    "        return len(x.split(','))\n",
    "    except:\n",
    "        return 0\n",
    "    \n",
    "X_tr['Colors_count'] = X_tr['Colors'].apply(CountColor)"
   ]
  },
  {
   "cell_type": "code",
   "execution_count": 20,
   "metadata": {},
   "outputs": [
    {
     "data": {
      "text/plain": [
       "Colors_count\n",
       "2     548\n",
       "3     529\n",
       "1     355\n",
       "4     306\n",
       "5     100\n",
       "6      42\n",
       "7      13\n",
       "9      11\n",
       "8       6\n",
       "10      4\n",
       "0       1\n",
       "Name: count, dtype: int64"
      ]
     },
     "execution_count": 20,
     "metadata": {},
     "output_type": "execute_result"
    }
   ],
   "source": [
    "X_tr['Colors_count'].value_counts()"
   ]
  },
  {
   "cell_type": "code",
   "execution_count": 62,
   "metadata": {},
   "outputs": [],
   "source": [
    "X_tr['Sensors_count'] = X_tr['Sensors'].apply(CountColor)"
   ]
  },
  {
   "cell_type": "code",
   "execution_count": 63,
   "metadata": {},
   "outputs": [
    {
     "data": {
      "text/plain": [
       "Sensors_count\n",
       "3     457\n",
       "4     384\n",
       "5     327\n",
       "2     296\n",
       "6     175\n",
       "1     131\n",
       "7      74\n",
       "8      35\n",
       "9      17\n",
       "0      15\n",
       "10      4\n",
       "Name: count, dtype: int64"
      ]
     },
     "execution_count": 63,
     "metadata": {},
     "output_type": "execute_result"
    }
   ],
   "source": [
    "X_tr['Sensors_count'].value_counts()"
   ]
  },
  {
   "cell_type": "markdown",
   "metadata": {},
   "source": [
    "Bluetooth has a lot of information which are only description about the version and created a lot of diversity on this column. so we will extract its version"
   ]
  },
  {
   "cell_type": "code",
   "execution_count": 64,
   "metadata": {},
   "outputs": [],
   "source": [
    "def extract_bluetooth_version(x):\n",
    "    return x.split(',')[0].split('/')[0].split('(')[0].split(' ')[0].replace('v', '').strip()\n",
    "    \n",
    "X_tr['Bluetooth_version'] = X_tr['Bluetooth'].apply(extract_bluetooth_version)"
   ]
  },
  {
   "cell_type": "code",
   "execution_count": 65,
   "metadata": {},
   "outputs": [
    {
     "data": {
      "text/plain": [
       "GPU\n",
       "PowerVR GE8320                                 97\n",
       "Adreno 305                                     69\n",
       "Adreno 200                                     66\n",
       "Mali-400                                       53\n",
       "Adreno 306                                     50\n",
       "                                               ..\n",
       "Adreno 405Mali-T720MP2                          1\n",
       "Adreno 725                                      1\n",
       "Adreno 710                                      1\n",
       "Adreno 306 - EU modelAdreno 305 - USA model     1\n",
       "Mali-G610 MC4                                   1\n",
       "Name: count, Length: 205, dtype: int64"
      ]
     },
     "execution_count": 65,
     "metadata": {},
     "output_type": "execute_result"
    }
   ],
   "source": [
    "X_tr['GPU'].value_counts()"
   ]
  },
  {
   "cell_type": "markdown",
   "metadata": {},
   "source": [
    "it seems like we could not extract any data from GPU"
   ]
  },
  {
   "cell_type": "code",
   "execution_count": 214,
   "metadata": {},
   "outputs": [
    {
     "data": {
      "text/plain": [
       "Loudspeaker\n",
       "True     1428\n",
       "False     487\n",
       "Name: count, dtype: int64"
      ]
     },
     "execution_count": 214,
     "metadata": {},
     "output_type": "execute_result"
    }
   ],
   "source": [
    "X_tr['Loudspeaker'].value_counts()"
   ]
  },
  {
   "cell_type": "code",
   "execution_count": 215,
   "metadata": {},
   "outputs": [
    {
     "data": {
      "text/plain": [
       "3.5mm jack\n",
       "True     1694\n",
       "False     221\n",
       "Name: count, dtype: int64"
      ]
     },
     "execution_count": 215,
     "metadata": {},
     "output_type": "execute_result"
    }
   ],
   "source": [
    "X_tr['3.5mm jack'].value_counts()"
   ]
  },
  {
   "cell_type": "code",
   "execution_count": 66,
   "metadata": {},
   "outputs": [],
   "source": [
    "def extract_chipset(x):\n",
    "    try:\n",
    "        return x.split(' ')[0]\n",
    "    except:\n",
    "        return 'None'\n",
    "\n",
    "X_tr['Chipset_type'] = X_tr['Chipset'].apply(extract_chipset)"
   ]
  },
  {
   "cell_type": "code",
   "execution_count": 220,
   "metadata": {},
   "outputs": [
    {
     "data": {
      "text/plain": [
       "Chipset_type\n",
       "Qualcomm       883\n",
       "Mediatek       423\n",
       "None           192\n",
       "Exynos         117\n",
       "Kirin           92\n",
       "Apple           50\n",
       "Unisoc          43\n",
       "Intel           30\n",
       "TI              19\n",
       "Nvidia          17\n",
       "Spreadtrum      13\n",
       "Hummingbird      9\n",
       "Huawei           8\n",
       "NovaThor         6\n",
       "MediaTek         2\n",
       "BCM              2\n",
       "Marvell          2\n",
       "Broadcom         2\n",
       "Intel®           1\n",
       "NVIDIA           1\n",
       "QM215            1\n",
       "LG               1\n",
       "5                1\n",
       "Name: count, dtype: int64"
      ]
     },
     "execution_count": 220,
     "metadata": {},
     "output_type": "execute_result"
    }
   ],
   "source": [
    "X_tr['Chipset_type'].value_counts()"
   ]
  },
  {
   "cell_type": "code",
   "execution_count": 135,
   "metadata": {},
   "outputs": [
    {
     "data": {
      "text/plain": [
       "Network\n",
       "GSM / HSPA / LTE HSPA 42.2/5.76 Mbps, LTE Cat4 150/50 Mbps                             239\n",
       "GSM / HSPA / LTE HSPA, LTE                                                             172\n",
       "GSM / HSPA HSPA 21.1/5.76 Mbps                                                         158\n",
       "GSM / HSPA / LTE HSPA, LTE-A                                                           106\n",
       "GSM / HSPA HSPA 7.2/5.76 Mbps                                                           72\n",
       "                                                                                      ... \n",
       "GSM / CDMA / HSPA / EVDO / LTE HSPA 42.2/5.76 Mbps, LTE-A (3CA) Cat16 1024/150 Mbps      1\n",
       "GSM / HSPA / LTE HSPA 21.1/5.76 Mbps, LTE, Cat6 300/50 Mbps                              1\n",
       "GSM / HSPA / LTE HSPA, TD-SCDMA, LTE, TD-LTE                                             1\n",
       "CDMA / EVDO / LTE EV-DO Rev.A 3.1 Mbps, LTE Class 13                                     1\n",
       "GSM / HSPA / LTE HSPA 42.2/5.76 Mbps, LTE-A (5CA) Cat18 1200/150 Mbps                    1\n",
       "Name: count, Length: 268, dtype: int64"
      ]
     },
     "execution_count": 135,
     "metadata": {},
     "output_type": "execute_result"
    }
   ],
   "source": [
    "X_tr['Network'].value_counts()"
   ]
  },
  {
   "cell_type": "markdown",
   "metadata": {},
   "source": [
    "'Network' has overlap with '2G', '3G', '4G' and '5G' columns so we sill not use it"
   ]
  },
  {
   "cell_type": "code",
   "execution_count": 136,
   "metadata": {},
   "outputs": [
    {
     "data": {
      "text/plain": [
       "Internal\n",
       "8GB 1GB RAM                                                   134\n",
       "16GB 2GB RAM                                                  114\n",
       "4GB 512MB RAM                                                  81\n",
       "32GB 3GB RAM                                                   76\n",
       "16GB 1GB RAM                                                   68\n",
       "                                                             ... \n",
       "8GB 1GB RAM, 16GB 1GB RAM, 16GB 2GB RAM (DL09)                  1\n",
       "8GB (4GB user available), 512MB RAM                             1\n",
       "16GB 2GB RAM, 64GB 3GB RAM                                      1\n",
       "512GB 12GB RAM, 1TB 18GB RAM                                    1\n",
       "64GB 6GB RAM, 128GB 6GB RAM, 256GB 8GB RAM, 512GB 12GB RAM      1\n",
       "Name: count, Length: 407, dtype: int64"
      ]
     },
     "execution_count": 136,
     "metadata": {},
     "output_type": "execute_result"
    }
   ],
   "source": [
    "X_tr['Internal'].value_counts()"
   ]
  },
  {
   "cell_type": "markdown",
   "metadata": {},
   "source": [
    "This column has overlap with 'RAM' and 'Storage' columns"
   ]
  },
  {
   "cell_type": "code",
   "execution_count": 67,
   "metadata": {},
   "outputs": [],
   "source": [
    "def card_slot_data(x):\n",
    "    if 'microSDXC' in x:\n",
    "        return 'microSDXC'\n",
    "    elif 'microSDHC' in x:\n",
    "        return 'microSDHC'\n",
    "    else:\n",
    "        return 'other'\n",
    "\n",
    "X_tr['Card_slots'] = X_tr['Card slot'].apply(card_slot_data)"
   ]
  },
  {
   "cell_type": "code",
   "execution_count": 25,
   "metadata": {},
   "outputs": [
    {
     "data": {
      "text/plain": [
       "RAM\n",
       "1.000000     383\n",
       "2.000000     352\n",
       "4.000000     274\n",
       "3.000000     222\n",
       "0.500000     187\n",
       "6.000000     176\n",
       "8.000000     136\n",
       "1.500000      48\n",
       "0.250000      40\n",
       "12.000000     32\n",
       "0.750000      24\n",
       "0.375000       9\n",
       "0.562500       8\n",
       "0.125000       6\n",
       "0.062500       5\n",
       "16.000000      4\n",
       "0.271484       2\n",
       "0.466797       1\n",
       "0.273438       1\n",
       "0.437500       1\n",
       "0.625000       1\n",
       "0.136719       1\n",
       "0.283203       1\n",
       "0.263672       1\n",
       "Name: count, dtype: int64"
      ]
     },
     "execution_count": 25,
     "metadata": {},
     "output_type": "execute_result"
    }
   ],
   "source": [
    "X_tr['RAM'].value_counts()"
   ]
  },
  {
   "cell_type": "code",
   "execution_count": 224,
   "metadata": {},
   "outputs": [
    {
     "data": {
      "text/plain": [
       "Storage\n",
       "16.000000     418\n",
       "32.000000     327\n",
       "64.000000     285\n",
       "128.000000    262\n",
       "8.000000      249\n",
       "4.000000      198\n",
       "256.000000     65\n",
       "0.500000       41\n",
       "2.000000       13\n",
       "1.000000       12\n",
       "512.000000      6\n",
       "0.062500        4\n",
       "0.250000        4\n",
       "0.146484        4\n",
       "1.100000        3\n",
       "0.375000        3\n",
       "0.156250        2\n",
       "11.000000       2\n",
       "0.154297        2\n",
       "0.039062        2\n",
       "1.500000        2\n",
       "0.136719        1\n",
       "13.200000       1\n",
       "0.125000        1\n",
       "0.175781        1\n",
       "0.166016        1\n",
       "0.048828        1\n",
       "0.058594        1\n",
       "3.000000        1\n",
       "0.562500        1\n",
       "0.253906        1\n",
       "0.263672        1\n",
       "Name: count, dtype: int64"
      ]
     },
     "execution_count": 224,
     "metadata": {},
     "output_type": "execute_result"
    }
   ],
   "source": [
    "X_tr['Storage'].value_counts()"
   ]
  },
  {
   "cell_type": "markdown",
   "metadata": {},
   "source": [
    "So the column which will be deleted are:\n",
    "\n",
    "'Unnamed: 0', 'name', 'brand', '2G','Weight', 'Diameter', 'pixel', 'WLAN', 'Network',\n",
    "'Internal', 'Card slot'\n",
    "\n",
    "And These columns will be deleted after we extract data from them:\n",
    "\n",
    "'Length', 'Width','Colors', 'Sensors', 'Bluetooth', 'GPU', 'Chipset'\n",
    "\n",
    "and these columns will be used in our model and training:\n",
    "\n",
    "'3G', '4G', '5G', 'Announced','Status', 'area', 'Weight_new', 'Diameter_new', 'SIM','Display Type', 'Display Size','ppi','body ratio', 'battery_capacity','Price', 'CPU', 'ratio', ,'Colors_count' ,'Sensors_count', 'Bluetooth_version', 'Loudspeaker', '3.5mm jack', 'Chipset_type', 'Card_slots', 'RAM', 'Storage'"
   ]
  },
  {
   "cell_type": "code",
   "execution_count": 68,
   "metadata": {},
   "outputs": [],
   "source": [
    "X_tr.drop(['Unnamed: 0', 'name', 'brand', '2G','Weight', 'Diameter', \n",
    "           'pixel', 'WLAN', 'Network','Internal', 'Card slot', 'Length', 'Width',\n",
    "           'Colors', 'Sensors', 'Bluetooth', 'GPU', 'Chipset'], axis=1, inplace=True)"
   ]
  },
  {
   "cell_type": "code",
   "execution_count": 226,
   "metadata": {},
   "outputs": [
    {
     "data": {
      "text/plain": [
       "Index(['3G', '4G', '5G', 'Announced', 'Status', 'SIM', 'Display Type',\n",
       "       'Display Size', 'ppi', 'body ratio', 'battery_capacity', 'Price', 'CPU',\n",
       "       'ratio', 'Loudspeaker', '3.5mm jack', 'RAM', 'Storage', 'Weight_new',\n",
       "       'Length_new', 'Width_new', 'area', 'Diameter_new', 'Colors_count',\n",
       "       'Sensors_count', 'Bluetooth_version', 'Chipset_type', 'Card_slots'],\n",
       "      dtype='object')"
      ]
     },
     "execution_count": 226,
     "metadata": {},
     "output_type": "execute_result"
    }
   ],
   "source": [
    "X_tr.columns"
   ]
  },
  {
   "cell_type": "code",
   "execution_count": 227,
   "metadata": {},
   "outputs": [
    {
     "name": "stdout",
     "output_type": "stream",
     "text": [
      "<class 'pandas.core.frame.DataFrame'>\n",
      "Index: 1915 entries, 390 to 187\n",
      "Data columns (total 28 columns):\n",
      " #   Column             Non-Null Count  Dtype  \n",
      "---  ------             --------------  -----  \n",
      " 0   3G                 1915 non-null   bool   \n",
      " 1   4G                 1915 non-null   bool   \n",
      " 2   5G                 1915 non-null   bool   \n",
      " 3   Announced          1915 non-null   float64\n",
      " 4   Status             1915 non-null   object \n",
      " 5   SIM                1915 non-null   object \n",
      " 6   Display Type       1915 non-null   object \n",
      " 7   Display Size       1915 non-null   float64\n",
      " 8   ppi                1915 non-null   int64  \n",
      " 9   body ratio         1915 non-null   int64  \n",
      " 10  battery_capacity   1915 non-null   int64  \n",
      " 11  Price              1915 non-null   int64  \n",
      " 12  CPU                1707 non-null   float64\n",
      " 13  ratio              1915 non-null   object \n",
      " 14  Loudspeaker        1915 non-null   bool   \n",
      " 15  3.5mm jack         1915 non-null   bool   \n",
      " 16  RAM                1915 non-null   float64\n",
      " 17  Storage            1915 non-null   float64\n",
      " 18  Weight_new         1915 non-null   int64  \n",
      " 19  Length_new         1915 non-null   int64  \n",
      " 20  Width_new          1915 non-null   int64  \n",
      " 21  area               1915 non-null   int64  \n",
      " 22  Diameter_new       1915 non-null   int64  \n",
      " 23  Colors_count       1915 non-null   int64  \n",
      " 24  Sensors_count      1915 non-null   int64  \n",
      " 25  Bluetooth_version  1915 non-null   object \n",
      " 26  Chipset_type       1915 non-null   object \n",
      " 27  Card_slots         1915 non-null   object \n",
      "dtypes: bool(5), float64(5), int64(11), object(7)\n",
      "memory usage: 368.4+ KB\n"
     ]
    }
   ],
   "source": [
    "X_tr.info()"
   ]
  },
  {
   "cell_type": "markdown",
   "metadata": {},
   "source": [
    "### Remove NaNs"
   ]
  },
  {
   "cell_type": "code",
   "execution_count": 71,
   "metadata": {},
   "outputs": [
    {
     "name": "stdout",
     "output_type": "stream",
     "text": [
      "CPU\n"
     ]
    }
   ],
   "source": [
    "## TODO: Remove NAN\n",
    "for col in X_tr.columns:\n",
    "    if X_tr[col].isna().values.any():\n",
    "        print(col)\n"
   ]
  },
  {
   "cell_type": "markdown",
   "metadata": {},
   "source": [
    "We should remove NaN values from \"CPU\" column. first wi will show describe and histogram of this column and then we will decide what will be our NaN filling strategy "
   ]
  },
  {
   "cell_type": "code",
   "execution_count": 72,
   "metadata": {},
   "outputs": [
    {
     "data": {
      "text/plain": [
       "count    1707.000000\n",
       "mean        5.891623\n",
       "std         2.370311\n",
       "min         2.000000\n",
       "25%         4.000000\n",
       "50%         8.000000\n",
       "75%         8.000000\n",
       "max        10.000000\n",
       "Name: CPU, dtype: float64"
      ]
     },
     "execution_count": 72,
     "metadata": {},
     "output_type": "execute_result"
    }
   ],
   "source": [
    "X_tr['CPU'].describe()"
   ]
  },
  {
   "cell_type": "code",
   "execution_count": 73,
   "metadata": {},
   "outputs": [
    {
     "data": {
      "text/plain": [
       "<Axes: >"
      ]
     },
     "execution_count": 73,
     "metadata": {},
     "output_type": "execute_result"
    },
    {
     "data": {
      "image/png": "[encoded data removed]",
      "text/plain": [
       "<Figure size 640x480 with 1 Axes>"
      ]
     },
     "metadata": {},
     "output_type": "display_data"
    }
   ],
   "source": [
    "X_tr['CPU'].hist()"
   ]
  },
  {
   "cell_type": "markdown",
   "metadata": {},
   "source": [
    "It seems that Average is a good amount for being replaced with NaN values"
   ]
  },
  {
   "cell_type": "code",
   "execution_count": 74,
   "metadata": {},
   "outputs": [],
   "source": [
    "X_tr.fillna(np.mean(X_tr['CPU']), inplace=True)"
   ]
  },
  {
   "cell_type": "markdown",
   "metadata": {},
   "source": [
    "Convert non-numerical Columns into numirecal values "
   ]
  },
  {
   "cell_type": "code",
   "execution_count": 75,
   "metadata": {},
   "outputs": [],
   "source": [
    "le = LabelEncoder()\n",
    "sc = StandardScaler()"
   ]
  },
  {
   "cell_type": "code",
   "execution_count": 76,
   "metadata": {},
   "outputs": [],
   "source": [
    "X_tr['3G'] = le.fit_transform(X_tr['3G'])\n",
    "X_tr['4G'] = le.fit_transform(X_tr['4G'])\n",
    "X_tr['5G'] = le.fit_transform(X_tr['5G'])\n",
    "X_tr['Status'] = le.fit_transform(X_tr['Status'])\n",
    "X_tr['SIM'] = le.fit_transform(X_tr['SIM'])\n",
    "X_tr['Display Type'] = le.fit_transform(X_tr['Display Type'])\n",
    "X_tr['ratio'] = le.fit_transform(X_tr['ratio'])\n",
    "X_tr['Colors_count'] = le.fit_transform(X_tr['Colors_count'])\n",
    "X_tr['Loudspeaker'] = le.fit_transform(X_tr['Loudspeaker'])\n",
    "X_tr['3.5mm jack'] = le.fit_transform(X_tr['3.5mm jack'])\n",
    "X_tr['Chipset_type'] = le.fit_transform(X_tr['Chipset_type'])\n",
    "X_tr['Card_slots'] = le.fit_transform(X_tr['Card_slots'])\n",
    "X_tr['Bluetooth_version'] = le.fit_transform(X_tr['Bluetooth_version'])"
   ]
  },
  {
   "cell_type": "code",
   "execution_count": 77,
   "metadata": {},
   "outputs": [],
   "source": [
    "X_tr_scaled=sc.fit_transform(X_tr)"
   ]
  },
  {
   "cell_type": "markdown",
   "metadata": {},
   "source": [
    "Now perform chages on validation and test data"
   ]
  },
  {
   "cell_type": "code",
   "execution_count": 78,
   "metadata": {},
   "outputs": [],
   "source": [
    "X_val['Length'] = X_val['Length'].apply(toFloat)\n",
    "X_val['Width'] = X_val['Width'].apply(toFloat)\n",
    "X_val['Length_new'] = X_val['Length'].apply(lambda x: int(math.ceil(float(x) / 10.0)) * 10)\n",
    "X_val['Width_new'] = X_val['Width'].apply(lambda x: int(math.ceil(float(x) / 10.0)) * 10)\n",
    "X_val['area'] = X_val['Length_new']*X_val['Width_new']\n",
    "X_val['Diameter'] = X_val['Diameter'].apply(DtoFloat)\n",
    "X_val['Diameter_new'] = X_val['Diameter'].apply(lambda x: int(math.ceil(float(x) / 5.0)) * 5)\n",
    "X_val['Display Type'] = X_val['Display Type'].apply(display_type)\n",
    "X_val['Display Size'].apply(lambda x: round(x)).value_counts()\n",
    "X_val['ppi'] = X_val['ppi'].apply(lambda x: int(math.ceil(float(x) / 5.0)) * 5)\n",
    "X_val['body ratio'] = X_val['body ratio'].apply(lambda x: int(math.ceil(float(x) / 5.0)) * 5)\n",
    "X_val['battery_capacity'] = X_val['battery_capacity'].apply(lambda x: int(math.ceil(float(x) / 1000.0)) * 1000)\n",
    "X_val['Price'] = X_val['Price'].apply(lambda x: int(math.ceil(float(x) / 50.0)) * 50)\n",
    "X_val['Colors_count'] = X_val['Colors'].apply(CountColor)\n",
    "X_val['Sensors_count'] = X_val['Sensors'].apply(CountColor)   \n",
    "X_val['Bluetooth_version'] = X_val['Bluetooth'].apply(extract_bluetooth_version)\n",
    "X_val['Chipset_type'] = X_val['Chipset'].apply(extract_chipset)\n",
    "X_val['Card_slots'] = X_val['Card slot'].apply(card_slot_data)\n",
    "X_val.drop(['Unnamed: 0', 'name', 'brand', '2G','Weight', 'Diameter', \n",
    "           'pixel', 'WLAN', 'Network','Internal', 'Card slot', 'Length', 'Width',\n",
    "           'Colors', 'Sensors', 'Bluetooth', 'GPU', 'Chipset'], axis=1, inplace=True)\n",
    "X_val.fillna(np.mean(X_val['CPU']), inplace=True)\n",
    "X_val['3G'] = le.fit_transform(X_val['3G'])\n",
    "X_val['4G'] = le.fit_transform(X_val['4G'])\n",
    "X_val['5G'] = le.fit_transform(X_val['5G'])\n",
    "X_val['Status'] = le.fit_transform(X_val['Status'])\n",
    "X_val['SIM'] = le.fit_transform(X_val['SIM'])\n",
    "X_val['Display Type'] = le.fit_transform(X_val['Display Type'])\n",
    "X_val['ratio'] = le.fit_transform(X_val['ratio'])\n",
    "X_val['Colors_count'] = le.fit_transform(X_val['Colors_count'])\n",
    "X_val['Loudspeaker'] = le.fit_transform(X_val['Loudspeaker'])\n",
    "X_val['3.5mm jack'] = le.fit_transform(X_val['3.5mm jack'])\n",
    "X_val['Chipset_type'] = le.fit_transform(X_val['Chipset_type'])\n",
    "X_val['Card_slots'] = le.fit_transform(X_val['Card_slots'])\n",
    "X_val['Bluetooth_version'] = le.fit_transform(X_val['Bluetooth_version'])\n",
    "X_val_scaled=sc.fit_transform(X_val)"
   ]
  },
  {
   "cell_type": "code",
   "execution_count": 79,
   "metadata": {},
   "outputs": [],
   "source": [
    "X_test['Length'] = X_test['Length'].apply(toFloat)\n",
    "X_test['Width'] = X_test['Width'].apply(toFloat)\n",
    "X_test['Length_new'] = X_test['Length'].apply(lambda x: int(math.ceil(float(x) / 10.0)) * 10)\n",
    "X_test['Width_new'] = X_test['Width'].apply(lambda x: int(math.ceil(float(x) / 10.0)) * 10)\n",
    "X_test['area'] = X_test['Length_new']*X_test['Width_new']\n",
    "X_test['Diameter'] = X_test['Diameter'].apply(DtoFloat)\n",
    "X_test['Diameter_new'] = X_test['Diameter'].apply(lambda x: int(math.ceil(float(x) / 5.0)) * 5)\n",
    "X_test['Display Type'] = X_test['Display Type'].apply(display_type)\n",
    "X_test['Display Size'].apply(lambda x: round(x)).value_counts()\n",
    "X_test['ppi'] = X_test['ppi'].apply(lambda x: int(math.ceil(float(x) / 5.0)) * 5)\n",
    "X_test['body ratio'] = X_test['body ratio'].apply(lambda x: int(math.ceil(float(x) / 5.0)) * 5)\n",
    "X_test['battery_capacity'] = X_test['battery_capacity'].apply(lambda x: int(math.ceil(float(x) / 1000.0)) * 1000)\n",
    "X_test['Price'] = X_test['Price'].apply(lambda x: int(math.ceil(float(x) / 50.0)) * 50)\n",
    "X_test['Colors_count'] = X_test['Colors'].apply(CountColor)\n",
    "X_test['Sensors_count'] = X_test['Sensors'].apply(CountColor)   \n",
    "X_test['Bluetooth_version'] = X_test['Bluetooth'].apply(extract_bluetooth_version)\n",
    "X_test['Chipset_type'] = X_test['Chipset'].apply(extract_chipset)\n",
    "X_test['Card_slots'] = X_test['Card slot'].apply(card_slot_data)\n",
    "X_test.drop(['Unnamed: 0', 'name', 'brand', '2G','Weight', 'Diameter', \n",
    "           'pixel', 'WLAN', 'Network','Internal', 'Card slot', 'Length', 'Width',\n",
    "           'Colors', 'Sensors', 'Bluetooth', 'GPU', 'Chipset'], axis=1, inplace=True)\n",
    "X_test.fillna(np.mean(X_test['CPU']), inplace=True)\n",
    "X_test['3G'] = le.fit_transform(X_test['3G'])\n",
    "X_test['4G'] = le.fit_transform(X_test['4G'])\n",
    "X_test['5G'] = le.fit_transform(X_test['5G'])\n",
    "X_test['Status'] = le.fit_transform(X_test['Status'])\n",
    "X_test['SIM'] = le.fit_transform(X_test['SIM'])\n",
    "X_test['Display Type'] = le.fit_transform(X_test['Display Type'])\n",
    "X_test['ratio'] = le.fit_transform(X_test['ratio'])\n",
    "X_test['Colors_count'] = le.fit_transform(X_test['Colors_count'])\n",
    "X_test['Loudspeaker'] = le.fit_transform(X_test['Loudspeaker'])\n",
    "X_test['3.5mm jack'] = le.fit_transform(X_test['3.5mm jack'])\n",
    "X_test['Chipset_type'] = le.fit_transform(X_test['Chipset_type'])\n",
    "X_test['Card_slots'] = le.fit_transform(X_test['Card_slots'])\n",
    "X_test['Bluetooth_version'] = le.fit_transform(X_test['Bluetooth_version'])\n",
    "X_test_scaled=sc.fit_transform(X_test)"
   ]
  },
  {
   "cell_type": "markdown",
   "metadata": {},
   "source": [
    "### Clear OS Data"
   ]
  },
  {
   "cell_type": "code",
   "execution_count": 81,
   "metadata": {},
   "outputs": [],
   "source": [
    "y_tr = pd.DataFrame(y_tr)\n",
    "y_val = pd.DataFrame(t_val)\n",
    "y_test = pd.DataFrame(t_test)"
   ]
  },
  {
   "cell_type": "code",
   "execution_count": 88,
   "metadata": {},
   "outputs": [],
   "source": [
    "def os_category(x):\n",
    "    try:\n",
    "        x = x.split(' ')[0]\n",
    "        if x == 'Android':\n",
    "            return 1\n",
    "        elif x == 'iOS':\n",
    "            return 2\n",
    "        elif x == 'Phone':\n",
    "            return 3\n",
    "        else:\n",
    "            return 0\n",
    "    except:\n",
    "        return 0\n",
    "y_tr['OS'] = y_tr['OS'].apply(os_category)\n",
    "y_val['OS'] = y_val['OS'].apply(os_category)\n",
    "y_test['OS'] = y_test['OS'].apply(os_category)"
   ]
  },
  {
   "cell_type": "code",
   "execution_count": 33,
   "metadata": {},
   "outputs": [
    {
     "name": "stdout",
     "output_type": "stream",
     "text": [
      "<class 'pandas.core.series.Series'> <class 'pandas.core.series.Series'> <class 'pandas.core.series.Series'>\n"
     ]
    }
   ],
   "source": [
    "print(type(y_tr), type(t_val), type(t_test))"
   ]
  },
  {
   "cell_type": "code",
   "execution_count": 89,
   "metadata": {},
   "outputs": [],
   "source": [
    "X_tr_scaled = pd.DataFrame(X_tr_scaled)\n",
    "X_val_scaled = pd.DataFrame(X_val_scaled)\n",
    "X_test_scaled = pd.DataFrame(X_test_scaled)\n",
    "\n",
    "\n",
    "X_tr_scaled.to_csv('./os_train_cleared.csv', index=False, header=True)\n",
    "X_val_scaled.to_csv('./os_val_cleared.csv', index=False, header=True)\n",
    "X_test_scaled.to_csv('./os_test_cleared.csv', index=False, header=True)\n",
    "\n",
    "y_tr.to_csv('./target_train.csv', index=False, header=True)\n",
    "y_val.to_csv('./target_val.csv', index=False, header=True)\n",
    "y_test.to_csv('./target_test.csv', index=False, header=True)"
   ]
  }
 ],
 "metadata": {
  "kernelspec": {
   "display_name": "Python 3",
   "language": "python",
   "name": "python3"
  },
  "language_info": {
   "codemirror_mode": {
    "name": "ipython",
    "version": 3
   },
   "file_extension": ".py",
   "mimetype": "text/x-python",
   "name": "python",
   "nbconvert_exporter": "python",
   "pygments_lexer": "ipython3",
   "version": "3.9.2"
  }
 },
 "nbformat": 4,
 "nbformat_minor": 2
}
