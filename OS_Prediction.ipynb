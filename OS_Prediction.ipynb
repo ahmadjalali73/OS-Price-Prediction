{
 "cells": [
  {
   "cell_type": "markdown",
   "metadata": {},
   "source": [
    "# OS Prediction\n",
    "In this section we should predict the operating system of cellphones based on data we have. This section has two parts.  The difference between these two parts is on \"Battery Capacity\" field from dataset."
   ]
  },
  {
   "cell_type": "code",
   "execution_count": 48,
   "metadata": {},
   "outputs": [],
   "source": [
    "import pandas as pd\n",
    "import numpy as np\n",
    "from sklearn.tree import DecisionTreeClassifier\n",
    "from sklearn.metrics import f1_score, confusion_matrix, accuracy_score, recall_score, precision_score\n",
    "from sklearn.model_selection import cross_validate, StratifiedKFold\n",
    "from sklearn.linear_model import SGDClassifier\n",
    "from sklearn.base import clone\n",
    "import seaborn as sns\n",
    "import matplotlib.pyplot as plt\n",
    "import warnings\n",
    "from pprint import pprint\n",
    "warnings.filterwarnings('ignore')"
   ]
  },
  {
   "cell_type": "code",
   "execution_count": 2,
   "metadata": {},
   "outputs": [],
   "source": [
    "X_train = pd.read_csv('./os_train_cleared.csv')\n",
    "X_val = pd.read_csv('./os_val_cleared.csv')\n",
    "X_test = pd.read_csv('./os_test_cleared.csv')\n",
    "y_train = pd.read_csv('./target_train.csv')\n",
    "y_val = pd.read_csv('./target_val.csv')\n",
    "y_test = pd.read_csv('./target_test.csv')"
   ]
  },
  {
   "cell_type": "code",
   "execution_count": 3,
   "metadata": {},
   "outputs": [
    {
     "data": {
      "text/plain": [
       "(1915, 27)"
      ]
     },
     "execution_count": 3,
     "metadata": {},
     "output_type": "execute_result"
    }
   ],
   "source": [
    "X_train.shape"
   ]
  },
  {
   "cell_type": "code",
   "execution_count": 4,
   "metadata": {},
   "outputs": [
    {
     "name": "stdout",
     "output_type": "stream",
     "text": [
      "<class 'pandas.core.frame.DataFrame'>\n",
      "RangeIndex: 1915 entries, 0 to 1914\n",
      "Data columns (total 27 columns):\n",
      " #   Column  Non-Null Count  Dtype  \n",
      "---  ------  --------------  -----  \n",
      " 0   0       1915 non-null   float64\n",
      " 1   1       1915 non-null   float64\n",
      " 2   2       1915 non-null   float64\n",
      " 3   3       1915 non-null   float64\n",
      " 4   4       1915 non-null   float64\n",
      " 5   5       1915 non-null   float64\n",
      " 6   6       1915 non-null   float64\n",
      " 7   7       1915 non-null   float64\n",
      " 8   8       1915 non-null   float64\n",
      " 9   9       1915 non-null   float64\n",
      " 10  10      1915 non-null   float64\n",
      " 11  11      1915 non-null   float64\n",
      " 12  12      1915 non-null   float64\n",
      " 13  13      1915 non-null   float64\n",
      " 14  14      1915 non-null   float64\n",
      " 15  15      1915 non-null   float64\n",
      " 16  16      1915 non-null   float64\n",
      " 17  17      1915 non-null   float64\n",
      " 18  18      1915 non-null   float64\n",
      " 19  19      1915 non-null   float64\n",
      " 20  20      1915 non-null   float64\n",
      " 21  21      1915 non-null   float64\n",
      " 22  22      1915 non-null   float64\n",
      " 23  23      1915 non-null   float64\n",
      " 24  24      1915 non-null   float64\n",
      " 25  25      1915 non-null   float64\n",
      " 26  26      1915 non-null   float64\n",
      "dtypes: float64(27)\n",
      "memory usage: 404.1 KB\n"
     ]
    }
   ],
   "source": [
    "X_train.info()"
   ]
  },
  {
   "cell_type": "code",
   "execution_count": 5,
   "metadata": {},
   "outputs": [
    {
     "name": "stdout",
     "output_type": "stream",
     "text": [
      "<class 'pandas.core.frame.DataFrame'>\n",
      "RangeIndex: 1915 entries, 0 to 1914\n",
      "Data columns (total 1 columns):\n",
      " #   Column  Non-Null Count  Dtype\n",
      "---  ------  --------------  -----\n",
      " 0   OS      1915 non-null   int64\n",
      "dtypes: int64(1)\n",
      "memory usage: 15.1 KB\n"
     ]
    }
   ],
   "source": [
    "y_train.info()"
   ]
  },
  {
   "cell_type": "code",
   "execution_count": 6,
   "metadata": {},
   "outputs": [],
   "source": [
    "dtc = DecisionTreeClassifier(random_state=42)\n",
    "dtc.fit(X_train, y_train)\n",
    "train_predict = dtc.predict(X_train)\n",
    "val_predict = dtc.predict(X_val)\n"
   ]
  },
  {
   "cell_type": "code",
   "execution_count": 15,
   "metadata": {},
   "outputs": [
    {
     "name": "stdout",
     "output_type": "stream",
     "text": [
      "F1_score of train:  1.0\n",
      "F1_score of validation:  0.9171597633136095\n",
      "accuracy_score of train:  1.0\n",
      "accuracy_score of validation:  0.9201183431952663\n",
      "Precision of train:  1.0\n",
      "Precision of validation:  0.9153846153846154\n",
      "Recall of train:  1.0\n",
      "Recall of validation:  0.9201183431952663\n"
     ]
    }
   ],
   "source": [
    "print(\"F1_score of train: \", f1_score(y_true=y_train, y_pred=train_predict, average='weighted'))\n",
    "print(\"F1_score of validation: \", f1_score(y_true=y_val, y_pred=val_predict, average='weighted'))\n",
    "print(\"accuracy_score of train: \", accuracy_score(y_true=y_train, y_pred=train_predict))\n",
    "print(\"accuracy_score of validation: \", accuracy_score(y_true=y_val, y_pred=val_predict))\n",
    "print(\"Precision of train: \", precision_score(y_true=y_train, y_pred=train_predict, average='weighted'))\n",
    "print(\"Precision of validation: \", precision_score(y_true=y_val, y_pred=val_predict, average='weighted'))\n",
    "print(\"Recall of train: \", recall_score(y_true=y_train, y_pred=train_predict, average='weighted'))\n",
    "print(\"Recall of validation: \", recall_score(y_true=y_val, y_pred=val_predict, average='weighted'))\n"
   ]
  },
  {
   "cell_type": "markdown",
   "metadata": {},
   "source": [
    "This result shows that our model is overfit! for example, compare confusion matrix of the result of predicted train and validation. it shows that in our train, we have guessed all \"IOS\" values correctly, but  in validation we guessed all of our \"IOS\" wrong! "
   ]
  },
  {
   "cell_type": "code",
   "execution_count": 8,
   "metadata": {},
   "outputs": [
    {
     "data": {
      "text/plain": [
       "Text(50.722222222222214, 0.5, 'True Lables')"
      ]
     },
     "execution_count": 8,
     "metadata": {},
     "output_type": "execute_result"
    },
    {
     "data": {
      "image/png": "[encoded data removed]",
      "text/plain": [
       "<Figure size 640x480 with 2 Axes>"
      ]
     },
     "metadata": {},
     "output_type": "display_data"
    }
   ],
   "source": [
    "cm = confusion_matrix(y_train,train_predict)\n",
    "\n",
    "sns.heatmap(cm , annot=True ,fmt='d')\n",
    "plt.xlabel(\"preficted Labels\")\n",
    "plt.ylabel(\"True Lables\")"
   ]
  },
  {
   "cell_type": "code",
   "execution_count": 9,
   "metadata": {},
   "outputs": [
    {
     "data": {
      "text/plain": [
       "Text(50.722222222222214, 0.5, 'True Lables')"
      ]
     },
     "execution_count": 9,
     "metadata": {},
     "output_type": "execute_result"
    },
    {
     "data": {
      "image/png": "[encoded data removed]",
      "text/plain": [
       "<Figure size 640x480 with 2 Axes>"
      ]
     },
     "metadata": {},
     "output_type": "display_data"
    }
   ],
   "source": [
    "cm = confusion_matrix(y_val,val_predict)\n",
    "\n",
    "sns.heatmap(cm , annot=True ,fmt='d')\n",
    "plt.xlabel(\"preficted Labels\")\n",
    "plt.ylabel(\"True Lables\")"
   ]
  },
  {
   "cell_type": "markdown",
   "metadata": {},
   "source": [
    "Now, we try to work on our model. first, we will use a gridSeach to find our model with "
   ]
  },
  {
   "cell_type": "code",
   "execution_count": 21,
   "metadata": {},
   "outputs": [
    {
     "name": "stdout",
     "output_type": "stream",
     "text": [
      "{'fit_time': array([0.02544236, 0.03546453, 0.02927089, 0.02832007, 0.025841  ]),\n",
      " 'score_time': array([0.01167512, 0.00879931, 0.01069307, 0.00549316, 0.00751615]),\n",
      " 'test_score': array([0.96228505, 0.95685955, 0.94726125, 0.9510466 , 0.93631753]),\n",
      " 'train_score': array([1., 1., 1., 1., 1.])}\n"
     ]
    }
   ],
   "source": [
    "result = cross_validate(dtc, X_train, y_train, scoring='f1_weighted', cv=5, return_train_score=True)\n",
    "pprint(result)"
   ]
  },
  {
   "cell_type": "code",
   "execution_count": 22,
   "metadata": {},
   "outputs": [
    {
     "name": "stdout",
     "output_type": "stream",
     "text": [
      "{'fit_time': array([0.01430917, 0.00817561, 0.00912547, 0.00968623, 0.0067687 ]),\n",
      " 'score_time': array([0.00716543, 0.00653863, 0.00745869, 0.00760341, 0.00490499]),\n",
      " 'test_score': array([0.91176471, 0.94379845, 0.90526676, 0.94527363, 0.9298668 ]),\n",
      " 'train_score': array([1., 1., 1., 1., 1.])}\n"
     ]
    }
   ],
   "source": [
    "result = cross_validate(dtc, X_val, y_val, scoring='f1_weighted', cv=5, return_train_score=True)\n",
    "pprint(result)"
   ]
  },
  {
   "cell_type": "code",
   "execution_count": 47,
   "metadata": {},
   "outputs": [
    {
     "name": "stdout",
     "output_type": "stream",
     "text": [
      "0.9451697127937336\n",
      "0.9477806788511749\n",
      "0.95822454308094\n",
      "0.95822454308094\n",
      "0.9530026109660574\n"
     ]
    }
   ],
   "source": [
    "skfold = StratifiedKFold(n_splits=5, random_state=42, shuffle=True)\n",
    "for tr_index, tst_index in skfold.split(X_train, y_train):\n",
    "    # print(X_train.iloc[tr_index])\n",
    "    clone_dtc = clone(dtc)\n",
    "    x_train_fold = X_train.iloc[tr_index]\n",
    "    y_train_fold = y_train.iloc[tr_index]\n",
    "    x_test_fold = X_train.iloc[tst_index]\n",
    "    y_test_fold = y_train.iloc[tst_index]\n",
    "\n",
    "    clone_dtc.fit(x_train_fold, y_train_fold)\n",
    "    y_pred = clone_dtc.predict(x_test_fold)\n",
    "    print(accuracy_score(y_true=y_test_fold, y_pred=y_pred))"
   ]
  },
  {
   "cell_type": "code",
   "execution_count": 49,
   "metadata": {},
   "outputs": [
    {
     "name": "stdout",
     "output_type": "stream",
     "text": [
      "0.9503916449086162\n",
      "0.9425587467362925\n",
      "0.9503916449086162\n",
      "0.9295039164490861\n",
      "0.9347258485639687\n"
     ]
    }
   ],
   "source": [
    "sgdc = SGDClassifier(random_state=42)\n",
    "skfold = StratifiedKFold(n_splits=5, random_state=42, shuffle=True)\n",
    "for tr_index, tst_index in skfold.split(X_train, y_train):\n",
    "    # print(X_train.iloc[tr_index])\n",
    "    clone_sgdc = clone(sgdc)\n",
    "    x_train_fold = X_train.iloc[tr_index]\n",
    "    y_train_fold = y_train.iloc[tr_index]\n",
    "    x_test_fold = X_train.iloc[tst_index]\n",
    "    y_test_fold = y_train.iloc[tst_index]\n",
    "\n",
    "    clone_sgdc.fit(x_train_fold, y_train_fold)\n",
    "    y_pred = clone_sgdc.predict(x_test_fold)\n",
    "    print(accuracy_score(y_true=y_test_fold, y_pred=y_pred))"
   ]
  },
  {
   "cell_type": "code",
   "execution_count": 53,
   "metadata": {},
   "outputs": [
    {
     "name": "stdout",
     "output_type": "stream",
     "text": [
      "{'fit_time': array([0.01676559, 0.02027082, 0.0197494 , 0.03398442, 0.01570272]),\n",
      " 'score_time': array([0.0074935 , 0.00711894, 0.01290846, 0.01387358, 0.00957108]),\n",
      " 'test_score': array([0.89501312, 0.93432869, 0.9003648 , 0.94029851, 0.94793748]),\n",
      " 'train_score': array([0.94576656, 0.94728759, 0.96955071, 0.94684914, 0.95487822])}\n"
     ]
    }
   ],
   "source": [
    "sgdc.fit(X_train, y_train)\n",
    "val_predict = sgdc.predict(X_val)\n",
    "result = cross_validate(sgdc, X_val, y_val, scoring='f1_weighted', cv=5, return_train_score=True)\n",
    "pprint(result)"
   ]
  },
  {
   "cell_type": "code",
   "execution_count": 54,
   "metadata": {},
   "outputs": [
    {
     "data": {
      "text/plain": [
       "Text(50.722222222222214, 0.5, 'True Lables')"
      ]
     },
     "execution_count": 54,
     "metadata": {},
     "output_type": "execute_result"
    },
    {
     "data": {
      "image/png": "[encoded data removed]",
      "text/plain": [
       "<Figure size 640x480 with 2 Axes>"
      ]
     },
     "metadata": {},
     "output_type": "display_data"
    }
   ],
   "source": [
    "cm = confusion_matrix(y_val,val_predict)\n",
    "\n",
    "sns.heatmap(cm , annot=True ,fmt='d')\n",
    "plt.xlabel(\"preficted Labels\")\n",
    "plt.ylabel(\"True Lables\")"
   ]
  }
 ],
 "metadata": {
  "kernelspec": {
   "display_name": "Python 3",
   "language": "python",
   "name": "python3"
  },
  "language_info": {
   "codemirror_mode": {
    "name": "ipython",
    "version": 3
   },
   "file_extension": ".py",
   "mimetype": "text/x-python",
   "name": "python",
   "nbconvert_exporter": "python",
   "pygments_lexer": "ipython3",
   "version": "3.9.2"
  }
 },
 "nbformat": 4,
 "nbformat_minor": 2
}
